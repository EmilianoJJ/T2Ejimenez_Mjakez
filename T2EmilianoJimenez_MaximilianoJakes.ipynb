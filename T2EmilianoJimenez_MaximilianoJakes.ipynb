{
 "cells": [
  {
   "cell_type": "markdown",
   "id": "53512ceb",
   "metadata": {},
   "source": [
    "# Tarea 2: Optimización con sympy"
   ]
  },
  {
   "cell_type": "markdown",
   "id": "56252b1f",
   "metadata": {},
   "source": [
    "##### Obtener máximos y mínimos absolutos, usando sympy, de las funciones dadas en los intervalos dados, y graficar la función en dicho intervalo señalando los puntos máximo y mínimo."
   ]
  },
  {
   "cell_type": "markdown",
   "id": "a725f3fd",
   "metadata": {},
   "source": [
    "$f(x)=2x^3+4x^2+1$ en $[-1.5,\\,0.5]$"
   ]
  },
  {
   "cell_type": "code",
   "execution_count": 21,
   "id": "cb0f0039",
   "metadata": {},
   "outputs": [
    {
     "data": {
      "text/latex": [
       "$\\displaystyle 2 x^{3} + 4 x^{2} + 1$"
      ],
      "text/plain": [
       "2*x**3 + 4*x**2 + 1"
      ]
     },
     "execution_count": 21,
     "metadata": {},
     "output_type": "execute_result"
    }
   ],
   "source": [
    "import numpy as np\n",
    "import matplotlib.pyplot as plt\n",
    "import sympy\n",
    "\n",
    "def f(x):\n",
    "    return 2*x**3 + 4*x**2 + 1\n",
    "x = sympy.Symbol('x', real=True)\n",
    "f_x = f(x)\n",
    "f_x\n"
   ]
  },
  {
   "cell_type": "code",
   "execution_count": 22,
   "id": "7c29f457",
   "metadata": {},
   "outputs": [
    {
     "data": {
      "text/latex": [
       "$\\displaystyle 6 x^{2} + 8 x$"
      ],
      "text/plain": [
       "6*x**2 + 8*x"
      ]
     },
     "execution_count": 22,
     "metadata": {},
     "output_type": "execute_result"
    }
   ],
   "source": [
    "  df = sympy.diff(f_x)\n",
    "df"
   ]
  },
  {
   "cell_type": "code",
   "execution_count": 23,
   "id": "489c9717",
   "metadata": {},
   "outputs": [
    {
     "data": {
      "text/latex": [
       "$\\displaystyle \\left\\{- \\frac{4}{3}, 0\\right\\}$"
      ],
      "text/plain": [
       "{-4/3, 0}"
      ]
     },
     "execution_count": 23,
     "metadata": {},
     "output_type": "execute_result"
    }
   ],
   "source": [
    "sympy.solveset(sympy.Eq(df, 0), x, sympy.Interval(-1.5, 0.5))"
   ]
  },
  {
   "cell_type": "code",
   "execution_count": 24,
   "id": "d458e60d",
   "metadata": {},
   "outputs": [
    {
     "data": {
      "text/latex": [
       "$\\displaystyle 1$"
      ],
      "text/plain": [
       "1"
      ]
     },
     "execution_count": 24,
     "metadata": {},
     "output_type": "execute_result"
    }
   ],
   "source": [
    "f_x.subs(x, 0)"
   ]
  },
  {
   "cell_type": "code",
   "execution_count": 25,
   "id": "7cabc68c",
   "metadata": {},
   "outputs": [
    {
     "data": {
      "text/latex": [
       "$\\displaystyle 3.37037037037037$"
      ],
      "text/plain": [
       "3.37037037037037"
      ]
     },
     "execution_count": 25,
     "metadata": {},
     "output_type": "execute_result"
    }
   ],
   "source": [
    "f_x.subs(x, -4/3)"
   ]
  },
  {
   "cell_type": "code",
   "execution_count": 26,
   "id": "c225b686",
   "metadata": {},
   "outputs": [
    {
     "data": {
      "text/latex": [
       "$\\displaystyle 3.25$"
      ],
      "text/plain": [
       "3.25000000000000"
      ]
     },
     "execution_count": 26,
     "metadata": {},
     "output_type": "execute_result"
    }
   ],
   "source": [
    "f_x.subs(x, -1.5)"
   ]
  },
  {
   "cell_type": "code",
   "execution_count": 27,
   "id": "e896193a",
   "metadata": {},
   "outputs": [
    {
     "data": {
      "text/latex": [
       "$\\displaystyle 2.25$"
      ],
      "text/plain": [
       "2.25000000000000"
      ]
     },
     "execution_count": 27,
     "metadata": {},
     "output_type": "execute_result"
    }
   ],
   "source": [
    "f_x.subs(x, 0.5)"
   ]
  },
  {
   "cell_type": "markdown",
   "id": "031e9cb3",
   "metadata": {},
   "source": [
    "Gráfica 1"
   ]
  },
  {
   "cell_type": "code",
   "execution_count": 28,
   "id": "917a594a",
   "metadata": {},
   "outputs": [],
   "source": [
    "x_ = np.linspace(-1.5, 0.5, 100)\n",
    "min_x = 0\n",
    "min_y = 1\n",
    "max_x = -4/3\n",
    "max_y = 3.37037037037037"
   ]
  },
  {
   "cell_type": "code",
   "execution_count": 29,
   "id": "4c0df216",
   "metadata": {},
   "outputs": [
    {
     "data": {
      "image/png": "[encoded data removed]",
      "text/plain": [
       "<Figure size 576x432 with 1 Axes>"
      ]
     },
     "metadata": {
      "needs_background": "light"
     },
     "output_type": "display_data"
    }
   ],
   "source": [
    "plt.figure(figsize=(8, 6))\n",
    "plt.plot(x_, f(x_))\n",
    "plt.scatter(min_x, min_y, color='r', marker='*', label='Minimo')\n",
    "plt.scatter(max_x, max_y, color='g', marker='*', label='Maximo')\n",
    "plt.xlabel('x')\n",
    "plt.ylabel('y')\n",
    "plt.legend()\n",
    "plt.show()"
   ]
  }
 ],
 "metadata": {
  "kernelspec": {
   "display_name": "Python 3 (ipykernel)",
   "language": "python",
   "name": "python3"
  },
  "language_info": {
   "codemirror_mode": {
    "name": "ipython",
    "version": 3
   },
   "file_extension": ".py",
   "mimetype": "text/x-python",
   "name": "python",
   "nbconvert_exporter": "python",
   "pygments_lexer": "ipython3",
   "version": "3.9.12"
  }
 },
 "nbformat": 4,
 "nbformat_minor": 5
}
